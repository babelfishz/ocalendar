{
  "nbformat": 4,
  "nbformat_minor": 0,
  "metadata": {
    "colab": {
      "name": "constructor.ipynb",
      "provenance": [],
      "authorship_tag": "ABX9TyNuIfofa41YxHziU5NYRLkU",
      "include_colab_link": true
    },
    "kernelspec": {
      "name": "python3",
      "display_name": "Python 3"
    }
  },
  "cells": [
    {
      "cell_type": "markdown",
      "metadata": {
        "id": "view-in-github",
        "colab_type": "text"
      },
      "source": [
        "<a href=\"https://colab.research.google.com/github/babelfishz/ocalendar/blob/master/constructor.ipynb\" target=\"_parent\"><img src=\"https://colab.research.google.com/assets/colab-badge.svg\" alt=\"Open In Colab\"/></a>"
      ]
    },
    {
      "cell_type": "code",
      "metadata": {
        "id": "Pkox3McVIhho",
        "colab_type": "code",
        "colab": {}
      },
      "source": [
        "from google.colab import drive\n",
        "drive.mount('/content/gdrive')"
      ],
      "execution_count": 0,
      "outputs": []
    },
    {
      "cell_type": "code",
      "metadata": {
        "id": "kevubI6_IUSx",
        "colab_type": "code",
        "colab": {}
      },
      "source": [
        "import os\n",
        "from pathlib import Path\n",
        "import shutil\n",
        "import random\n",
        "\n",
        "dataSetPath = '/content/gdrive/My Drive/dataset/'\n",
        "#os.removedirs(dataSetPath)\n",
        "Path(dataSetPath).mkdir(parents=True, exist_ok=True)\n",
        "\n",
        "trainPath = dataSetPath +'train'\n",
        "testPath = dataSetPath +'test'\n",
        "valPath = dataSetPath +'val'\n",
        "\n",
        "Path(trainPath).mkdir(parents=True, exist_ok=True)\n",
        "Path(testPath).mkdir(parents=True, exist_ok=True)\n",
        "Path(valPath).mkdir(parents=True, exist_ok=True)\n",
        "\n",
        "srcPath ='/content/gdrive/My Drive/orchids/'\n",
        "names = os.listdir(srcPath)\n",
        "\n",
        "for name in names[:]:\n",
        "  print(name)\n",
        "  \n",
        "  path = trainPath + '/' + name\n",
        "  Path(path).mkdir(parents=True, exist_ok=True)\n",
        "  \n",
        "\n",
        "  path = testPath + '/' + name\n",
        "  Path(path).mkdir(parents=True, exist_ok=True)\n",
        "\n",
        "  path = valPath + '/' + name\n",
        "  Path(path).mkdir(parents=True, exist_ok=True)\n",
        "\n",
        "  files = os.listdir(srcPath + '/'+name)\n",
        "\n",
        "  for file in files:\n",
        "    src = srcPath + name + '/' + file\n",
        "    dst = trainPath + '/' + name +'/' + file \n",
        "    shutil.copyfile(src,dst)\n",
        "\n",
        "  random.shuffle(files)\n",
        "  for file in files[0:6]:\n",
        "    src = srcPath + name + '/' + file\n",
        "    dst = testPath + '/' + name +'/' + file\n",
        "    shutil.copyfile(src,dst)\n",
        "\n",
        "  random.shuffle(files)\n",
        "  for file in files[0:6]:\n",
        "    src = srcPath + name + '/' + file\n",
        "    dst = valPath + '/' + name +'/' + file\n",
        "    shutil.copyfile(src,dst)\n",
        " \n",
        "\n",
        "print(\"dataset constructed\")\n"
      ],
      "execution_count": 0,
      "outputs": []
    }
  ]
}